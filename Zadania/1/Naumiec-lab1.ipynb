{
 "cells": [
  {
   "cell_type": "markdown",
   "metadata": {
    "collapsed": true
   },
   "source": [
    "# Algorytmy tekstowe"
   ]
  },
  {
   "cell_type": "markdown",
   "metadata": {},
   "source": [
    "## Laboratorium 1"
   ]
  },
  {
   "cell_type": "markdown",
   "metadata": {},
   "source": [
    "### Adam Naumiec"
   ]
  },
  {
   "cell_type": "markdown",
   "metadata": {},
   "source": [
    "# ***"
   ]
  },
  {
   "cell_type": "markdown",
   "metadata": {},
   "source": [
    "Import bibliotek."
   ]
  },
  {
   "cell_type": "code",
   "execution_count": 1,
   "metadata": {
    "pycharm": {
     "is_executing": true
    }
   },
   "outputs": [],
   "source": [
    "import numpy as np\n",
    "from time import perf_counter as perf\n",
    "import pandas as pd\n",
    "import matplotlib.pyplot as plt"
   ]
  },
  {
   "cell_type": "markdown",
   "metadata": {},
   "source": [
    "## Zadanie 1"
   ]
  },
  {
   "cell_type": "markdown",
   "metadata": {},
   "source": [
    "Zaimplementuj w Pythonie algorytmy wyszukiwania wzorców:\n",
    "1. naiwny\n",
    "2. automat skończony\n",
    "3. algorytm KMP"
   ]
  },
  {
   "cell_type": "markdown",
   "metadata": {},
   "source": [
    "### Algorytm naiwny"
   ]
  },
  {
   "cell_type": "code",
   "execution_count": 2,
   "metadata": {
    "pycharm": {
     "is_executing": true
    }
   },
   "outputs": [],
   "source": [
    "def naive_search(T, P):\n",
    "    time_start = perf()\n",
    "    \n",
    "    n = len(T)\n",
    "    m = len(P)\n",
    "    matches = 0\n",
    "    \n",
    "    for i in range(n - m + 1):\n",
    "        if P == T[i:i + m]:\n",
    "            matches += 1\n",
    "        \n",
    "    time_stop = perf()\n",
    "    \n",
    "    return matches, time_stop - time_start, 0"
   ]
  },
  {
   "cell_type": "markdown",
   "metadata": {},
   "source": [
    "### Automat skończony"
   ]
  },
  {
   "cell_type": "code",
   "execution_count": 3,
   "metadata": {
    "pycharm": {
     "is_executing": true
    }
   },
   "outputs": [],
   "source": [
    "def finite_automaton_search(T, P):\n",
    "    time_start_preprocessing = perf()\n",
    "    \n",
    "    delta = [{} for _ in range(len(P) + 1)]\n",
    "    alphabet = set(P)\n",
    "    \n",
    "    for i in range(len(P) + 1):\n",
    "        for alpha in alphabet:\n",
    "            q = min(len(P), i + 1)\n",
    "            \n",
    "            while q > 0 and P[:q] != (P[:i] + alpha)[-q:]:\n",
    "                q -= 1\n",
    "                \n",
    "            delta[i][alpha] = q\n",
    "            \n",
    "    time_stop_preprocessing = perf()\n",
    "    \n",
    "    time_start = perf()\n",
    "    \n",
    "    n = len(T)\n",
    "    m = len(P)\n",
    "    matches = 0\n",
    "    \n",
    "    q = 0\n",
    "    for i in range(n):\n",
    "        if T[i] in delta[q]:\n",
    "            q = delta[q][T[i]]\n",
    "            \n",
    "            if q == m:\n",
    "                matches += 1\n",
    "        else:\n",
    "            q = 0\n",
    "            \n",
    "    time_stop = perf()\n",
    "    \n",
    "    return matches, time_stop - time_start, time_stop_preprocessing - time_start_preprocessing"
   ]
  },
  {
   "cell_type": "markdown",
   "metadata": {},
   "source": [
    "### Algorytm KMP"
   ]
  },
  {
   "cell_type": "code",
   "execution_count": 4,
   "metadata": {
    "pycharm": {
     "is_executing": true
    }
   },
   "outputs": [],
   "source": [
    "def compute_lps(P):\n",
    "    m = len(P)\n",
    "    \n",
    "    lps = [0 for _ in range(m)]\n",
    "    \n",
    "    i = 0 \n",
    "    for j in range(1, m):\n",
    "        while i > 0 and P[i] != P[j]:\n",
    "            i = lps[i-1]\n",
    "            \n",
    "        if P[i] == P[j]:\n",
    "            i += 1\n",
    "\n",
    "        lps[j] = i\n",
    "\n",
    "    return lps\n",
    "\n",
    "\n",
    "def kmp_search(T, P):\n",
    "    time_start_preprocessing = perf()\n",
    "    lps = compute_lps(P)\n",
    "    time_stop_preprocessing = perf()\n",
    "    \n",
    "    time_start = perf()\n",
    "    \n",
    "    n = len(T)\n",
    "    m = len(P)\n",
    "    matches = 0\n",
    "    \n",
    "    j = 0\n",
    "    for i in range(n):\n",
    "        while j > 0 and P[j] != T[i]:\n",
    "            j = lps[j - 1]\n",
    "        \n",
    "        if P[j] == T[i]:\n",
    "            j += 1\n",
    "        \n",
    "        if j == m:\n",
    "            matches += 1\n",
    "            j = lps[j - 1]\n",
    "    \n",
    "    time_stop = perf()\n",
    "    \n",
    "    return matches, time_stop - time_start, time_stop_preprocessing - time_start_preprocessing"
   ]
  },
  {
   "cell_type": "markdown",
   "metadata": {},
   "source": [
    "## Zadanie 2"
   ]
  },
  {
   "cell_type": "markdown",
   "metadata": {},
   "source": [
    "Zaimplementuj testy porównujące szybkość działania wyżej wymienionych algorytmów, z rozbiciem na czasu pre-processingu oraz czas wyszukiwania wzorca w tekście (1p)."
   ]
  },
  {
   "cell_type": "code",
   "execution_count": 5,
   "metadata": {
    "pycharm": {
     "is_executing": true
    }
   },
   "outputs": [],
   "source": [
    "def test_perf(T, P):\n",
    "    # 1. Number of pattern occurrences in text \n",
    "    # 2. Execution time\n",
    "    # 3. Preprocessing time\n",
    "    \n",
    "    result_naive = naive_search(T, P)\n",
    "    result_finite_automaton = finite_automaton_search(T, P)\n",
    "    result_kmp = kmp_search(T, P)\n",
    "    \n",
    "    return result_naive, result_finite_automaton, result_kmp"
   ]
  },
  {
   "cell_type": "code",
   "execution_count": 6,
   "metadata": {
    "pycharm": {
     "is_executing": true
    }
   },
   "outputs": [],
   "source": [
    "def test_perf_table(T, P):\n",
    "    result_naive = naive_search(T, P)\n",
    "    result_finite_automaton = finite_automaton_search(T, P)\n",
    "    result_kmp = kmp_search(T, P)\n",
    "    \n",
    "    data = pd.DataFrame({\n",
    "        \"Result\": [result_naive[0],  result_finite_automaton[0],  result_kmp[0]],\n",
    "        \"Execution time\": [result_naive[1],  result_finite_automaton[1],  result_kmp[1]],\n",
    "        \"Preprocessing time\": [result_naive[2],  result_finite_automaton[2],  result_kmp[2]]},\n",
    "        index = [\"Naive algorithm\", \"Finite automaton\", \"KMP\"])\n",
    "    \n",
    "    return data"
   ]
  },
  {
   "cell_type": "code",
   "execution_count": 7,
   "metadata": {
    "pycharm": {
     "is_executing": true
    }
   },
   "outputs": [],
   "source": [
    "def perf_stats(T, P, rng=10):   \n",
    "    data_naive = []\n",
    "    data_finite_automaton = []\n",
    "    data_kmp = []\n",
    "    \n",
    "    for i in range(rng):\n",
    "        data_result = test_perf(T, P)\n",
    "        \n",
    "        data_naive.append(data_result[0])\n",
    "        data_finite_automaton.append(data_result[1])\n",
    "        data_kmp.append(data_result[2])\n",
    "    \n",
    "    algorithms_names =  [\"Naive algorithm\", \"Finite automaton\", \"KMP\"]\n",
    "    \n",
    "    min_naive = min(x[1] + x[2] for x in data_naive)\n",
    "    min_finite_automaton = min(x[1] + x[2] for x in data_finite_automaton)\n",
    "    min_kmp = min(x[1] + x[2] for x in data_kmp)\n",
    "    \n",
    "    max_naive = max(x[1] + x[2] for x in data_naive)\n",
    "    max_finite_automaton = max(x[1] + x[2] for x in data_finite_automaton)\n",
    "    max_kmp = max(x[1] + x[2] for x in data_kmp)\n",
    "    \n",
    "    avg_naive = sum(x[1] + x[2] for x in data_naive) / rng\n",
    "    avg_finite_automaton = sum(x[1] + x[2] for x in data_finite_automaton) / rng\n",
    "    avg_kmp = sum(x[1] + x[2] for x in data_kmp) / rng\n",
    "    \n",
    "    \n",
    "    data = pd.DataFrame({\n",
    "        \"Result\": [data_naive[0][0],  data_finite_automaton[0][0],  data_kmp[0][0]],\n",
    "        \"Min time\": [min_naive, min_finite_automaton, min_kmp],\n",
    "        \"Max time\": [max_naive, max_finite_automaton, max_kmp],\n",
    "        \"Avg time\": [avg_naive, avg_finite_automaton, avg_kmp]\n",
    "    }, index = algorithms_names)\n",
    "    \n",
    "    \n",
    "    min_plot = [min_naive, min_finite_automaton, min_kmp]\n",
    "    avg_plot = [avg_naive, avg_finite_automaton, avg_kmp]\n",
    "    max_plot = [max_naive, max_finite_automaton, max_kmp]\n",
    "\n",
    "    width = 0.2\n",
    "    index = np.arange(3)\n",
    "    plt.xticks(index, algorithms_names)\n",
    "\n",
    "    plt.bar(index - width, min_plot, width, label=\"Min\")\n",
    "    plt.bar(index, avg_plot, width, label=\"Avg\")\n",
    "    plt.bar(index + width, max_plot, width, label=\"Max\")\n",
    "\n",
    "    plt.legend()\n",
    "    plt.title(\"Performance tests\")\n",
    "    plt.xlabel(\"Algorithm\")\n",
    "    plt.ylabel(\"Time [s]\")\n",
    "    \n",
    "    plt.show()\n",
    "    print(data)"
   ]
  },
  {
   "cell_type": "markdown",
   "metadata": {},
   "source": [
    "## Zadanie 3"
   ]
  },
  {
   "cell_type": "markdown",
   "metadata": {},
   "source": [
    "Znajdź wszystkie wystąpienia wzorców \"pan\" oraz \"pani\" w załączonym pliku, za pomocą każdego algorytmu. W raporcie zamieść liczbę dopasowań każdego ze wzorców osobno dla każdego algorytmu. Upewnij się, że każdy algorytm zwraca taką samą liczbę dopasowań (1p)."
   ]
  },
  {
   "cell_type": "code",
   "execution_count": 8,
   "metadata": {
    "pycharm": {
     "is_executing": true
    },
    "scrolled": true
   },
   "outputs": [
    {
     "name": "stdout",
     "output_type": "stream",
     "text": [
      "Liczba dopasowań wzorca 'pan':\n",
      "Algorytm naiwny: 401\n",
      "Automat skończony: 401\n",
      "Algorytm KMP: 401\n",
      "\n",
      "Liczba dopasowań wzorca 'pani':\n",
      "Algorytm naiwny: 100\n",
      "Automat skończony: 100\n",
      "Algorytm KMP: 100\n",
      "\n",
      "Algorytmy zwracają taką samą liczbę dopasowań dla: 'pan'.\n",
      "Algorytmy zwracają taką samą liczbę dopasowań dla: 'pani'.\n",
      "\n",
      "ALGORYTMY DZIAŁAJĄ POPRAWNIE\n"
     ]
    }
   ],
   "source": [
    "def pan_tadeusz():\n",
    "    with open(\"pan-tadeusz.txt\", \"r\", encoding=\"UTF-8\") as file:\n",
    "        text = file.read()\n",
    "        pan = \"pan\"\n",
    "        pani = \"pani\"\n",
    "\n",
    "        pan_naive = naive_search(text, pan)[0]\n",
    "        pani_naive = naive_search(text, pani)[0]\n",
    "\n",
    "        pan_finite_automaton = finite_automaton_search(text, pan)[0]\n",
    "        pani_finite_automaton = finite_automaton_search(text, pani)[0]\n",
    "\n",
    "        pan_kmp = kmp_search(text, pan)[0]\n",
    "        pani_kmp = kmp_search(text, pani)[0]\n",
    "\n",
    "        print(\"Liczba dopasowań wzorca 'pan':\")\n",
    "        print(\"Algorytm naiwny:\", pan_naive)\n",
    "        print(\"Automat skończony:\", pan_finite_automaton)\n",
    "        print(\"Algorytm KMP:\", pan_kmp)\n",
    "        print(\"\")\n",
    "        print(\"Liczba dopasowań wzorca 'pani':\")\n",
    "        print(\"Algorytm naiwny:\", pani_naive)\n",
    "        print(\"Automat skończony:\", pani_finite_automaton)\n",
    "        print(\"Algorytm KMP:\", pani_kmp)\n",
    "        print(\"\")\n",
    "\n",
    "        flag = True\n",
    "\n",
    "        if (pan_naive == pan_finite_automaton == pan_kmp):\n",
    "            print(\"Algorytmy zwracają taką samą liczbę dopasowań dla: 'pan'.\")\n",
    "        else:\n",
    "            print(\"Algorytmy zwracają różne wyniki dla: 'pan'!\")\n",
    "            flag = False\n",
    "\n",
    "        if (pani_naive == pani_finite_automaton == pani_kmp):\n",
    "            print(\"Algorytmy zwracają taką samą liczbę dopasowań dla: 'pani'.\")\n",
    "        else:\n",
    "            print(\"Algorytmy zwracają różne wyniki dla: 'pani'!\")\n",
    "            flag = False\n",
    "\n",
    "        if flag:\n",
    "            print(\"\\nALGORYTMY DZIAŁAJĄ POPRAWNIE\")\n",
    "        else:\n",
    "            print(\"\\nALGORYTMY NIE DZIAŁAJĄ POPRAWNIE\")\n",
    "\n",
    "pan_tadeusz()"
   ]
  },
  {
   "cell_type": "markdown",
   "metadata": {},
   "source": [
    "## Zadanie 4"
   ]
  },
  {
   "cell_type": "markdown",
   "metadata": {},
   "source": [
    "Porównaj szybkość działania algorytmów dla problemu z p. 3, z uwzględnieniem czasu pre-processingu oraz czasu dopasowania. Pomiar czasu powinien być przeprowadzony co najmniej 5-krotnie i przedstawione w formie tabeli oraz wykresu, uwzględniającego czas minimalny, maksymalny oraz średni czas (1p)."
   ]
  },
  {
   "cell_type": "code",
   "execution_count": 9,
   "metadata": {
    "pycharm": {
     "is_executing": true
    }
   },
   "outputs": [
    {
     "data": {
      "image/png": "[encoded data removed]",
      "text/plain": [
       "<Figure size 640x480 with 1 Axes>"
      ]
     },
     "metadata": {},
     "output_type": "display_data"
    },
    {
     "name": "stdout",
     "output_type": "stream",
     "text": [
      "                  Result  Min time  Max time  Avg time\n",
      "Naive algorithm      401  0.055871  0.063592  0.058550\n",
      "Finite automaton     401  0.034962  0.038347  0.036314\n",
      "KMP                  401  0.037121  0.044169  0.038431\n"
     ]
    }
   ],
   "source": [
    "def stats_pan_tadeusz():\n",
    "    with open(\"pan-tadeusz.txt\", \"r\", encoding=\"UTF-8\") as file:\n",
    "            text = file.read()\n",
    "            pattern = \"pan\"\n",
    "\n",
    "    perf_stats(text, pattern)\n",
    "    \n",
    "stats_pan_tadeusz()"
   ]
  },
  {
   "cell_type": "markdown",
   "metadata": {},
   "source": [
    "## Zadanie 5"
   ]
  },
  {
   "cell_type": "markdown",
   "metadata": {},
   "source": [
    "Zaproponuj tekst oraz wzorzec, dla którego zmierzony czas działania algorytmów 2 oraz 3 (uwzględniający tylko dopasowanie, bez pre-processingu) będzie co najmniej 5-krotnie krótszy niż dla algorytmu naiwnego. Uruchom każdy algorytm na zadanym wzorcu i tekście, w celu sprawdzenia, czy zmierzony czas jest faktycznie co najmniej 5-krotnie krótszy (1p)."
   ]
  },
  {
   "cell_type": "code",
   "execution_count": 10,
   "metadata": {
    "pycharm": {
     "is_executing": true
    }
   },
   "outputs": [],
   "source": [
    "slow_text = \"*\" * 5000000\n",
    "slow_pattern = \"*\" * 50000"
   ]
  },
  {
   "cell_type": "code",
   "execution_count": 11,
   "metadata": {
    "pycharm": {
     "is_executing": true
    },
    "scrolled": true
   },
   "outputs": [
    {
     "name": "stdout",
     "output_type": "stream",
     "text": [
      "                   Result  Execution time  Preprocessing time\n",
      "Naive algorithm   4950001       20.676685            0.000000\n",
      "Finite automaton  4950001        0.644941            0.230781\n",
      "KMP               4950001        0.917412            0.008146\n"
     ]
    }
   ],
   "source": [
    "print(test_perf_table(slow_text, slow_pattern))"
   ]
  },
  {
   "cell_type": "markdown",
   "metadata": {},
   "source": [
    "W tym przypadku algorytm naiwny jest ok. 20 razy wolniejszy do algorytmu automatu skończonego i algorytmu Knutha-Morrisa-Pratta."
   ]
  },
  {
   "cell_type": "markdown",
   "metadata": {},
   "source": [
    "## Zadanie 6"
   ]
  },
  {
   "cell_type": "markdown",
   "metadata": {},
   "source": [
    "Przedstaw wnioski wynikające z przeprowadzonych eksperymentów, ze szczególnym uwzględnieniem praktycznych konsekwencji wynikających z różnic pomiędzy zaimplementowanymi algorytmami (1p)."
   ]
  },
  {
   "cell_type": "markdown",
   "metadata": {
    "pycharm": {
     "is_executing": true
    }
   },
   "source": [
    "WNIOSKI\n",
    "\n",
    "Wyniki pokazują, że w standardowych przypadkach algorytm naiwny okazywał się średnio najwolniejszy, ale nie były to różnice, które wykluczałyby go z użycia. Duża różnica widoczna była w przypadkach skrajnych, co pokazało poprzednie zadanie. Tam łączny czas wykonania był znacząco wyższy w przypadku algorytmu naiwnego. W przypadku algorytmu automatu skończonego i algorytmu Knutha-Morrisa-Pratta należy także wziąć pod uwagę czas preprocessingu, który nie występuje w przypadku algorytmu naiwnego."
   ]
  },
  {
   "cell_type": "markdown",
   "metadata": {},
   "source": [
    "# ***"
   ]
  },
  {
   "cell_type": "markdown",
   "metadata": {},
   "source": [
    "This cell intentionally left blank."
   ]
  }
 ],
 "metadata": {
  "kernelspec": {
   "display_name": "Python 3 (ipykernel)",
   "language": "python",
   "name": "python3"
  },
  "language_info": {
   "codemirror_mode": {
    "name": "ipython",
    "version": 3
   },
   "file_extension": ".py",
   "mimetype": "text/x-python",
   "name": "python",
   "nbconvert_exporter": "python",
   "pygments_lexer": "ipython3",
   "version": "3.11.0"
  }
 },
 "nbformat": 4,
 "nbformat_minor": 1
}
